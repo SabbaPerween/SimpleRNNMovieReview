{
 "cells": [
  {
   "cell_type": "code",
   "execution_count": 2,
   "metadata": {},
   "outputs": [],
   "source": [
    "from tensorflow.keras.preprocessing.text import one_hot"
   ]
  },
  {
   "cell_type": "code",
   "execution_count": 3,
   "metadata": {},
   "outputs": [],
   "source": [
    "### sentences\n",
    "sent=[  'the glass of milk',\n",
    "    'the glass of juice',\n",
    "    'the cup of tea',\n",
    "    'I am a good boy',\n",
    "    'I am a good developer',\n",
    "    'understand the meaning of words',\n",
    "    'your videos are good',]"
   ]
  },
  {
   "cell_type": "code",
   "execution_count": 4,
   "metadata": {},
   "outputs": [
    {
     "data": {
      "text/plain": [
       "['the glass of milk',\n",
       " 'the glass of juice',\n",
       " 'the cup of tea',\n",
       " 'I am a good boy',\n",
       " 'I am a good developer',\n",
       " 'understand the meaning of words',\n",
       " 'your videos are good']"
      ]
     },
     "execution_count": 4,
     "metadata": {},
     "output_type": "execute_result"
    }
   ],
   "source": [
    "sent"
   ]
  },
  {
   "cell_type": "code",
   "execution_count": 14,
   "metadata": {},
   "outputs": [],
   "source": [
    "## Define vocabulary size\n",
    "voc_size=10000"
   ]
  },
  {
   "cell_type": "code",
   "execution_count": 15,
   "metadata": {},
   "outputs": [
    {
     "data": {
      "text/plain": [
       "[[1293, 8863, 2506, 3534],\n",
       " [1293, 8863, 2506, 3904],\n",
       " [1293, 6148, 2506, 737],\n",
       " [7482, 4753, 7223, 3383, 1958],\n",
       " [7482, 4753, 7223, 3383, 3877],\n",
       " [5815, 1293, 9441, 2506, 8412],\n",
       " [1814, 2037, 5657, 3383]]"
      ]
     },
     "execution_count": 15,
     "metadata": {},
     "output_type": "execute_result"
    }
   ],
   "source": [
    "### One Hot Representation\n",
    "one_hot_repr=[one_hot(words,voc_size)for words in sent]\n",
    "one_hot_repr"
   ]
  },
  {
   "cell_type": "code",
   "execution_count": 16,
   "metadata": {},
   "outputs": [],
   "source": [
    "## Word Embedding Representation\n",
    "from tensorflow.keras.layers import Embedding\n",
    "#from tensorflow.keras.processing.sequence import pad_sequences\n",
    "from tensorflow.keras.utils import pad_sequences\n",
    "from tensorflow.keras.models import Sequential\n",
    "import numpy as np\n"
   ]
  },
  {
   "cell_type": "code",
   "execution_count": 17,
   "metadata": {},
   "outputs": [
    {
     "name": "stdout",
     "output_type": "stream",
     "text": [
      "[[   0    0    0    0 1293 8863 2506 3534]\n",
      " [   0    0    0    0 1293 8863 2506 3904]\n",
      " [   0    0    0    0 1293 6148 2506  737]\n",
      " [   0    0    0 7482 4753 7223 3383 1958]\n",
      " [   0    0    0 7482 4753 7223 3383 3877]\n",
      " [   0    0    0 5815 1293 9441 2506 8412]\n",
      " [   0    0    0    0 1814 2037 5657 3383]]\n"
     ]
    }
   ],
   "source": [
    "sent_length=8\n",
    "embedded_docs=pad_sequences(one_hot_repr,padding='pre',maxlen=sent_length)\n",
    "print(embedded_docs)"
   ]
  },
  {
   "cell_type": "code",
   "execution_count": 18,
   "metadata": {},
   "outputs": [],
   "source": [
    "## Feature Representation\n",
    "dim=10  #Dimension"
   ]
  },
  {
   "cell_type": "code",
   "execution_count": 19,
   "metadata": {},
   "outputs": [
    {
     "name": "stderr",
     "output_type": "stream",
     "text": [
      "e:\\Deep Learning\\Simple RNN(Movie Review)\\venv\\lib\\site-packages\\keras\\src\\layers\\core\\embedding.py:90: UserWarning: Argument `input_length` is deprecated. Just remove it.\n",
      "  warnings.warn(\n"
     ]
    }
   ],
   "source": [
    "model=Sequential()\n",
    "model.add(Embedding(voc_size,dim,input_length=sent_length))\n",
    "model.compile('adam','mse')"
   ]
  },
  {
   "cell_type": "code",
   "execution_count": 20,
   "metadata": {},
   "outputs": [
    {
     "data": {
      "text/html": [
       "<pre style=\"white-space:pre;overflow-x:auto;line-height:normal;font-family:Menlo,'DejaVu Sans Mono',consolas,'Courier New',monospace\"><span style=\"font-weight: bold\">Model: \"sequential_1\"</span>\n",
       "</pre>\n"
      ],
      "text/plain": [
       "\u001b[1mModel: \"sequential_1\"\u001b[0m\n"
      ]
     },
     "metadata": {},
     "output_type": "display_data"
    },
    {
     "data": {
      "text/html": [
       "<pre style=\"white-space:pre;overflow-x:auto;line-height:normal;font-family:Menlo,'DejaVu Sans Mono',consolas,'Courier New',monospace\">┏━━━━━━━━━━━━━━━━━━━━━━━━━━━━━━━━━┳━━━━━━━━━━━━━━━━━━━━━━━━┳━━━━━━━━━━━━━━━┓\n",
       "┃<span style=\"font-weight: bold\"> Layer (type)                    </span>┃<span style=\"font-weight: bold\"> Output Shape           </span>┃<span style=\"font-weight: bold\">       Param # </span>┃\n",
       "┡━━━━━━━━━━━━━━━━━━━━━━━━━━━━━━━━━╇━━━━━━━━━━━━━━━━━━━━━━━━╇━━━━━━━━━━━━━━━┩\n",
       "│ embedding_1 (<span style=\"color: #0087ff; text-decoration-color: #0087ff\">Embedding</span>)         │ ?                      │   <span style=\"color: #00af00; text-decoration-color: #00af00\">0</span> (unbuilt) │\n",
       "└─────────────────────────────────┴────────────────────────┴───────────────┘\n",
       "</pre>\n"
      ],
      "text/plain": [
       "┏━━━━━━━━━━━━━━━━━━━━━━━━━━━━━━━━━┳━━━━━━━━━━━━━━━━━━━━━━━━┳━━━━━━━━━━━━━━━┓\n",
       "┃\u001b[1m \u001b[0m\u001b[1mLayer (type)                   \u001b[0m\u001b[1m \u001b[0m┃\u001b[1m \u001b[0m\u001b[1mOutput Shape          \u001b[0m\u001b[1m \u001b[0m┃\u001b[1m \u001b[0m\u001b[1m      Param #\u001b[0m\u001b[1m \u001b[0m┃\n",
       "┡━━━━━━━━━━━━━━━━━━━━━━━━━━━━━━━━━╇━━━━━━━━━━━━━━━━━━━━━━━━╇━━━━━━━━━━━━━━━┩\n",
       "│ embedding_1 (\u001b[38;5;33mEmbedding\u001b[0m)         │ ?                      │   \u001b[38;5;34m0\u001b[0m (unbuilt) │\n",
       "└─────────────────────────────────┴────────────────────────┴───────────────┘\n"
      ]
     },
     "metadata": {},
     "output_type": "display_data"
    },
    {
     "data": {
      "text/html": [
       "<pre style=\"white-space:pre;overflow-x:auto;line-height:normal;font-family:Menlo,'DejaVu Sans Mono',consolas,'Courier New',monospace\"><span style=\"font-weight: bold\"> Total params: </span><span style=\"color: #00af00; text-decoration-color: #00af00\">0</span> (0.00 B)\n",
       "</pre>\n"
      ],
      "text/plain": [
       "\u001b[1m Total params: \u001b[0m\u001b[38;5;34m0\u001b[0m (0.00 B)\n"
      ]
     },
     "metadata": {},
     "output_type": "display_data"
    },
    {
     "data": {
      "text/html": [
       "<pre style=\"white-space:pre;overflow-x:auto;line-height:normal;font-family:Menlo,'DejaVu Sans Mono',consolas,'Courier New',monospace\"><span style=\"font-weight: bold\"> Trainable params: </span><span style=\"color: #00af00; text-decoration-color: #00af00\">0</span> (0.00 B)\n",
       "</pre>\n"
      ],
      "text/plain": [
       "\u001b[1m Trainable params: \u001b[0m\u001b[38;5;34m0\u001b[0m (0.00 B)\n"
      ]
     },
     "metadata": {},
     "output_type": "display_data"
    },
    {
     "data": {
      "text/html": [
       "<pre style=\"white-space:pre;overflow-x:auto;line-height:normal;font-family:Menlo,'DejaVu Sans Mono',consolas,'Courier New',monospace\"><span style=\"font-weight: bold\"> Non-trainable params: </span><span style=\"color: #00af00; text-decoration-color: #00af00\">0</span> (0.00 B)\n",
       "</pre>\n"
      ],
      "text/plain": [
       "\u001b[1m Non-trainable params: \u001b[0m\u001b[38;5;34m0\u001b[0m (0.00 B)\n"
      ]
     },
     "metadata": {},
     "output_type": "display_data"
    }
   ],
   "source": [
    "model.summary()"
   ]
  },
  {
   "cell_type": "code",
   "execution_count": 21,
   "metadata": {},
   "outputs": [
    {
     "name": "stdout",
     "output_type": "stream",
     "text": [
      "\u001b[1m1/1\u001b[0m \u001b[32m━━━━━━━━━━━━━━━━━━━━\u001b[0m\u001b[37m\u001b[0m \u001b[1m0s\u001b[0m 318ms/step\n"
     ]
    },
    {
     "data": {
      "text/plain": [
       "array([[[-4.2985570e-02, -2.5785342e-03, -2.4830587e-03, -2.3544360e-02,\n",
       "         -4.5534875e-02,  4.7217373e-02,  2.5183726e-02, -4.6690226e-02,\n",
       "          8.2337856e-04, -3.5005294e-02],\n",
       "        [-4.2985570e-02, -2.5785342e-03, -2.4830587e-03, -2.3544360e-02,\n",
       "         -4.5534875e-02,  4.7217373e-02,  2.5183726e-02, -4.6690226e-02,\n",
       "          8.2337856e-04, -3.5005294e-02],\n",
       "        [-4.2985570e-02, -2.5785342e-03, -2.4830587e-03, -2.3544360e-02,\n",
       "         -4.5534875e-02,  4.7217373e-02,  2.5183726e-02, -4.6690226e-02,\n",
       "          8.2337856e-04, -3.5005294e-02],\n",
       "        [-4.2985570e-02, -2.5785342e-03, -2.4830587e-03, -2.3544360e-02,\n",
       "         -4.5534875e-02,  4.7217373e-02,  2.5183726e-02, -4.6690226e-02,\n",
       "          8.2337856e-04, -3.5005294e-02],\n",
       "        [ 3.2077346e-02,  1.1902429e-02, -2.0585656e-02,  4.4161689e-02,\n",
       "          4.8955869e-02, -6.3155405e-03, -1.6725123e-02, -3.1825982e-02,\n",
       "         -6.8617687e-03,  8.3624013e-03],\n",
       "        [-3.3158828e-02, -3.9169289e-02, -1.9763995e-02, -3.8598526e-02,\n",
       "         -7.1915984e-03, -1.8720604e-02,  2.2399854e-02,  1.5796270e-02,\n",
       "         -7.8226216e-03, -2.4925018e-02],\n",
       "        [ 2.2215251e-02,  4.7929298e-02, -1.1739921e-02, -3.9955389e-02,\n",
       "          1.9097637e-02, -3.1929888e-02, -1.4977694e-02,  1.5918519e-02,\n",
       "         -4.8563350e-02,  1.3214674e-02],\n",
       "        [-2.9374469e-02, -2.3347592e-02,  9.1614500e-03, -9.5310584e-03,\n",
       "         -3.2847989e-02, -3.0810012e-02, -4.7131039e-02,  2.0570207e-02,\n",
       "         -1.1621393e-02, -4.1322101e-02]],\n",
       "\n",
       "       [[-4.2985570e-02, -2.5785342e-03, -2.4830587e-03, -2.3544360e-02,\n",
       "         -4.5534875e-02,  4.7217373e-02,  2.5183726e-02, -4.6690226e-02,\n",
       "          8.2337856e-04, -3.5005294e-02],\n",
       "        [-4.2985570e-02, -2.5785342e-03, -2.4830587e-03, -2.3544360e-02,\n",
       "         -4.5534875e-02,  4.7217373e-02,  2.5183726e-02, -4.6690226e-02,\n",
       "          8.2337856e-04, -3.5005294e-02],\n",
       "        [-4.2985570e-02, -2.5785342e-03, -2.4830587e-03, -2.3544360e-02,\n",
       "         -4.5534875e-02,  4.7217373e-02,  2.5183726e-02, -4.6690226e-02,\n",
       "          8.2337856e-04, -3.5005294e-02],\n",
       "        [-4.2985570e-02, -2.5785342e-03, -2.4830587e-03, -2.3544360e-02,\n",
       "         -4.5534875e-02,  4.7217373e-02,  2.5183726e-02, -4.6690226e-02,\n",
       "          8.2337856e-04, -3.5005294e-02],\n",
       "        [ 3.2077346e-02,  1.1902429e-02, -2.0585656e-02,  4.4161689e-02,\n",
       "          4.8955869e-02, -6.3155405e-03, -1.6725123e-02, -3.1825982e-02,\n",
       "         -6.8617687e-03,  8.3624013e-03],\n",
       "        [-3.3158828e-02, -3.9169289e-02, -1.9763995e-02, -3.8598526e-02,\n",
       "         -7.1915984e-03, -1.8720604e-02,  2.2399854e-02,  1.5796270e-02,\n",
       "         -7.8226216e-03, -2.4925018e-02],\n",
       "        [ 2.2215251e-02,  4.7929298e-02, -1.1739921e-02, -3.9955389e-02,\n",
       "          1.9097637e-02, -3.1929888e-02, -1.4977694e-02,  1.5918519e-02,\n",
       "         -4.8563350e-02,  1.3214674e-02],\n",
       "        [-8.7727085e-03,  2.9593471e-02,  4.6266858e-02, -4.3045748e-02,\n",
       "         -3.8496293e-02, -3.3888031e-02, -2.6855601e-02,  1.5706692e-02,\n",
       "         -3.9412986e-02,  3.2237481e-02]],\n",
       "\n",
       "       [[-4.2985570e-02, -2.5785342e-03, -2.4830587e-03, -2.3544360e-02,\n",
       "         -4.5534875e-02,  4.7217373e-02,  2.5183726e-02, -4.6690226e-02,\n",
       "          8.2337856e-04, -3.5005294e-02],\n",
       "        [-4.2985570e-02, -2.5785342e-03, -2.4830587e-03, -2.3544360e-02,\n",
       "         -4.5534875e-02,  4.7217373e-02,  2.5183726e-02, -4.6690226e-02,\n",
       "          8.2337856e-04, -3.5005294e-02],\n",
       "        [-4.2985570e-02, -2.5785342e-03, -2.4830587e-03, -2.3544360e-02,\n",
       "         -4.5534875e-02,  4.7217373e-02,  2.5183726e-02, -4.6690226e-02,\n",
       "          8.2337856e-04, -3.5005294e-02],\n",
       "        [-4.2985570e-02, -2.5785342e-03, -2.4830587e-03, -2.3544360e-02,\n",
       "         -4.5534875e-02,  4.7217373e-02,  2.5183726e-02, -4.6690226e-02,\n",
       "          8.2337856e-04, -3.5005294e-02],\n",
       "        [ 3.2077346e-02,  1.1902429e-02, -2.0585656e-02,  4.4161689e-02,\n",
       "          4.8955869e-02, -6.3155405e-03, -1.6725123e-02, -3.1825982e-02,\n",
       "         -6.8617687e-03,  8.3624013e-03],\n",
       "        [ 3.3358838e-02, -9.3999989e-03, -4.1342832e-02,  4.8992086e-02,\n",
       "          4.7731284e-02,  3.6481824e-02,  1.1750601e-02, -4.9524929e-02,\n",
       "          2.5736857e-02, -7.0654750e-03],\n",
       "        [ 2.2215251e-02,  4.7929298e-02, -1.1739921e-02, -3.9955389e-02,\n",
       "          1.9097637e-02, -3.1929888e-02, -1.4977694e-02,  1.5918519e-02,\n",
       "         -4.8563350e-02,  1.3214674e-02],\n",
       "        [-1.1916377e-02,  6.7422166e-03,  3.8177360e-02, -2.4687164e-03,\n",
       "          7.8204274e-03, -1.4807820e-02,  2.6612710e-02, -2.8974736e-02,\n",
       "          1.4173005e-02,  1.4128696e-02]],\n",
       "\n",
       "       [[-4.2985570e-02, -2.5785342e-03, -2.4830587e-03, -2.3544360e-02,\n",
       "         -4.5534875e-02,  4.7217373e-02,  2.5183726e-02, -4.6690226e-02,\n",
       "          8.2337856e-04, -3.5005294e-02],\n",
       "        [-4.2985570e-02, -2.5785342e-03, -2.4830587e-03, -2.3544360e-02,\n",
       "         -4.5534875e-02,  4.7217373e-02,  2.5183726e-02, -4.6690226e-02,\n",
       "          8.2337856e-04, -3.5005294e-02],\n",
       "        [-4.2985570e-02, -2.5785342e-03, -2.4830587e-03, -2.3544360e-02,\n",
       "         -4.5534875e-02,  4.7217373e-02,  2.5183726e-02, -4.6690226e-02,\n",
       "          8.2337856e-04, -3.5005294e-02],\n",
       "        [-4.2873979e-02, -3.9433371e-02, -2.3686219e-02,  1.6777787e-02,\n",
       "         -3.1983964e-03,  4.2943384e-02,  2.0087156e-02, -1.5229918e-02,\n",
       "          2.4952415e-02, -3.1030441e-02],\n",
       "        [ 3.5303246e-02,  8.1620589e-03, -2.7108938e-05,  3.2889042e-02,\n",
       "          6.0909018e-03, -4.7566749e-02, -4.7401465e-02, -1.8436324e-02,\n",
       "          2.8615620e-02,  4.9546216e-02],\n",
       "        [-1.8798187e-04,  6.1070211e-03, -2.1677725e-03,  4.0960226e-02,\n",
       "          2.8950859e-02,  7.8979731e-03,  2.8593685e-02,  4.2200852e-02,\n",
       "          3.3559952e-02, -3.8341366e-02],\n",
       "        [ 4.8471678e-02, -2.4397219e-02, -3.0683553e-02,  2.4506364e-02,\n",
       "         -1.1217751e-02,  3.9079677e-02,  4.0957108e-03,  1.1878621e-02,\n",
       "         -7.1290843e-03, -4.2817988e-02],\n",
       "        [ 2.7022362e-03,  1.6773988e-02, -5.4373033e-03,  1.2981702e-02,\n",
       "          4.1045319e-02, -6.9596544e-03,  2.4262097e-02, -1.7588638e-02,\n",
       "         -4.3070842e-02, -6.4625852e-03]],\n",
       "\n",
       "       [[-4.2985570e-02, -2.5785342e-03, -2.4830587e-03, -2.3544360e-02,\n",
       "         -4.5534875e-02,  4.7217373e-02,  2.5183726e-02, -4.6690226e-02,\n",
       "          8.2337856e-04, -3.5005294e-02],\n",
       "        [-4.2985570e-02, -2.5785342e-03, -2.4830587e-03, -2.3544360e-02,\n",
       "         -4.5534875e-02,  4.7217373e-02,  2.5183726e-02, -4.6690226e-02,\n",
       "          8.2337856e-04, -3.5005294e-02],\n",
       "        [-4.2985570e-02, -2.5785342e-03, -2.4830587e-03, -2.3544360e-02,\n",
       "         -4.5534875e-02,  4.7217373e-02,  2.5183726e-02, -4.6690226e-02,\n",
       "          8.2337856e-04, -3.5005294e-02],\n",
       "        [-4.2873979e-02, -3.9433371e-02, -2.3686219e-02,  1.6777787e-02,\n",
       "         -3.1983964e-03,  4.2943384e-02,  2.0087156e-02, -1.5229918e-02,\n",
       "          2.4952415e-02, -3.1030441e-02],\n",
       "        [ 3.5303246e-02,  8.1620589e-03, -2.7108938e-05,  3.2889042e-02,\n",
       "          6.0909018e-03, -4.7566749e-02, -4.7401465e-02, -1.8436324e-02,\n",
       "          2.8615620e-02,  4.9546216e-02],\n",
       "        [-1.8798187e-04,  6.1070211e-03, -2.1677725e-03,  4.0960226e-02,\n",
       "          2.8950859e-02,  7.8979731e-03,  2.8593685e-02,  4.2200852e-02,\n",
       "          3.3559952e-02, -3.8341366e-02],\n",
       "        [ 4.8471678e-02, -2.4397219e-02, -3.0683553e-02,  2.4506364e-02,\n",
       "         -1.1217751e-02,  3.9079677e-02,  4.0957108e-03,  1.1878621e-02,\n",
       "         -7.1290843e-03, -4.2817988e-02],\n",
       "        [-4.6149492e-03, -3.7695192e-02,  3.7837755e-02, -2.0097746e-02,\n",
       "          4.0500034e-02,  7.7185035e-03,  1.4063451e-02, -2.6924729e-02,\n",
       "         -2.7765855e-03,  3.5193149e-02]],\n",
       "\n",
       "       [[-4.2985570e-02, -2.5785342e-03, -2.4830587e-03, -2.3544360e-02,\n",
       "         -4.5534875e-02,  4.7217373e-02,  2.5183726e-02, -4.6690226e-02,\n",
       "          8.2337856e-04, -3.5005294e-02],\n",
       "        [-4.2985570e-02, -2.5785342e-03, -2.4830587e-03, -2.3544360e-02,\n",
       "         -4.5534875e-02,  4.7217373e-02,  2.5183726e-02, -4.6690226e-02,\n",
       "          8.2337856e-04, -3.5005294e-02],\n",
       "        [-4.2985570e-02, -2.5785342e-03, -2.4830587e-03, -2.3544360e-02,\n",
       "         -4.5534875e-02,  4.7217373e-02,  2.5183726e-02, -4.6690226e-02,\n",
       "          8.2337856e-04, -3.5005294e-02],\n",
       "        [-1.2455545e-02,  2.0771865e-02,  4.1608214e-03,  2.1403853e-02,\n",
       "          3.4350071e-02, -3.5803914e-03,  3.7380014e-02, -4.4352449e-02,\n",
       "          2.4847064e-02, -2.3636891e-02],\n",
       "        [ 3.2077346e-02,  1.1902429e-02, -2.0585656e-02,  4.4161689e-02,\n",
       "          4.8955869e-02, -6.3155405e-03, -1.6725123e-02, -3.1825982e-02,\n",
       "         -6.8617687e-03,  8.3624013e-03],\n",
       "        [-4.0657353e-02, -3.9801251e-02,  1.8145133e-02,  1.0842197e-03,\n",
       "          4.5886759e-02, -1.9204235e-02, -2.0952709e-03,  3.4922957e-03,\n",
       "         -3.1852327e-02,  2.2973530e-03],\n",
       "        [ 2.2215251e-02,  4.7929298e-02, -1.1739921e-02, -3.9955389e-02,\n",
       "          1.9097637e-02, -3.1929888e-02, -1.4977694e-02,  1.5918519e-02,\n",
       "         -4.8563350e-02,  1.3214674e-02],\n",
       "        [ 3.8444404e-02,  1.5259273e-03, -2.8167760e-02, -1.4662422e-02,\n",
       "         -1.1647247e-02, -4.4988990e-02, -3.0302167e-02,  4.3781612e-02,\n",
       "         -1.0156978e-02, -2.9392207e-02]],\n",
       "\n",
       "       [[-4.2985570e-02, -2.5785342e-03, -2.4830587e-03, -2.3544360e-02,\n",
       "         -4.5534875e-02,  4.7217373e-02,  2.5183726e-02, -4.6690226e-02,\n",
       "          8.2337856e-04, -3.5005294e-02],\n",
       "        [-4.2985570e-02, -2.5785342e-03, -2.4830587e-03, -2.3544360e-02,\n",
       "         -4.5534875e-02,  4.7217373e-02,  2.5183726e-02, -4.6690226e-02,\n",
       "          8.2337856e-04, -3.5005294e-02],\n",
       "        [-4.2985570e-02, -2.5785342e-03, -2.4830587e-03, -2.3544360e-02,\n",
       "         -4.5534875e-02,  4.7217373e-02,  2.5183726e-02, -4.6690226e-02,\n",
       "          8.2337856e-04, -3.5005294e-02],\n",
       "        [-4.2985570e-02, -2.5785342e-03, -2.4830587e-03, -2.3544360e-02,\n",
       "         -4.5534875e-02,  4.7217373e-02,  2.5183726e-02, -4.6690226e-02,\n",
       "          8.2337856e-04, -3.5005294e-02],\n",
       "        [-3.4776259e-02,  1.7583285e-02, -2.1384990e-02,  1.4443446e-02,\n",
       "          3.6785852e-02, -4.6562254e-02, -3.4306198e-04, -4.4497252e-02,\n",
       "          7.4110739e-03, -2.6974095e-02],\n",
       "        [ 1.0481298e-02, -8.0000386e-03, -2.2647155e-02,  2.6060786e-02,\n",
       "          4.1899230e-02,  3.9414261e-02,  1.7030273e-02,  3.4592893e-02,\n",
       "          2.3007933e-02,  3.3518318e-02],\n",
       "        [-3.7866902e-02,  3.7487138e-02, -2.6306415e-02,  3.6892641e-02,\n",
       "          2.3267578e-02, -2.4766374e-02,  4.8707973e-02, -3.2483473e-02,\n",
       "          1.6278718e-02, -3.7003532e-03],\n",
       "        [ 4.8471678e-02, -2.4397219e-02, -3.0683553e-02,  2.4506364e-02,\n",
       "         -1.1217751e-02,  3.9079677e-02,  4.0957108e-03,  1.1878621e-02,\n",
       "         -7.1290843e-03, -4.2817988e-02]]], dtype=float32)"
      ]
     },
     "execution_count": 21,
     "metadata": {},
     "output_type": "execute_result"
    }
   ],
   "source": [
    "model.predict(embedded_docs)"
   ]
  },
  {
   "cell_type": "code",
   "execution_count": 22,
   "metadata": {},
   "outputs": [
    {
     "data": {
      "text/plain": [
       "array([   0,    0,    0,    0, 1293, 8863, 2506, 3534])"
      ]
     },
     "execution_count": 22,
     "metadata": {},
     "output_type": "execute_result"
    }
   ],
   "source": [
    "embedded_docs[0]"
   ]
  },
  {
   "cell_type": "code",
   "execution_count": 27,
   "metadata": {},
   "outputs": [
    {
     "ename": "ValueError",
     "evalue": "Exception encountered when calling Sequential.call().\n\n\u001b[1mCannot take the length of shape with unknown rank.\u001b[0m\n\nArguments received by Sequential.call():\n  • inputs=tf.Tensor(shape=<unknown>, dtype=int32)\n  • training=False\n  • mask=None",
     "output_type": "error",
     "traceback": [
      "\u001b[1;31m---------------------------------------------------------------------------\u001b[0m",
      "\u001b[1;31mValueError\u001b[0m                                Traceback (most recent call last)",
      "Cell \u001b[1;32mIn[27], line 1\u001b[0m\n\u001b[1;32m----> 1\u001b[0m \u001b[43mmodel\u001b[49m\u001b[38;5;241;43m.\u001b[39;49m\u001b[43mpredict\u001b[49m\u001b[43m(\u001b[49m\u001b[43membedded_docs\u001b[49m\u001b[43m[\u001b[49m\u001b[38;5;241;43m0\u001b[39;49m\u001b[43m]\u001b[49m\u001b[43m)\u001b[49m\n",
      "File \u001b[1;32me:\\Deep Learning\\Simple RNN(Movie Review)\\venv\\lib\\site-packages\\keras\\src\\utils\\traceback_utils.py:122\u001b[0m, in \u001b[0;36mfilter_traceback.<locals>.error_handler\u001b[1;34m(*args, **kwargs)\u001b[0m\n\u001b[0;32m    119\u001b[0m     filtered_tb \u001b[38;5;241m=\u001b[39m _process_traceback_frames(e\u001b[38;5;241m.\u001b[39m__traceback__)\n\u001b[0;32m    120\u001b[0m     \u001b[38;5;66;03m# To get the full stack trace, call:\u001b[39;00m\n\u001b[0;32m    121\u001b[0m     \u001b[38;5;66;03m# `keras.config.disable_traceback_filtering()`\u001b[39;00m\n\u001b[1;32m--> 122\u001b[0m     \u001b[38;5;28;01mraise\u001b[39;00m e\u001b[38;5;241m.\u001b[39mwith_traceback(filtered_tb) \u001b[38;5;28;01mfrom\u001b[39;00m\u001b[38;5;250m \u001b[39m\u001b[38;5;28;01mNone\u001b[39;00m\n\u001b[0;32m    123\u001b[0m \u001b[38;5;28;01mfinally\u001b[39;00m:\n\u001b[0;32m    124\u001b[0m     \u001b[38;5;28;01mdel\u001b[39;00m filtered_tb\n",
      "File \u001b[1;32me:\\Deep Learning\\Simple RNN(Movie Review)\\venv\\lib\\site-packages\\keras\\src\\utils\\traceback_utils.py:122\u001b[0m, in \u001b[0;36mfilter_traceback.<locals>.error_handler\u001b[1;34m(*args, **kwargs)\u001b[0m\n\u001b[0;32m    119\u001b[0m     filtered_tb \u001b[38;5;241m=\u001b[39m _process_traceback_frames(e\u001b[38;5;241m.\u001b[39m__traceback__)\n\u001b[0;32m    120\u001b[0m     \u001b[38;5;66;03m# To get the full stack trace, call:\u001b[39;00m\n\u001b[0;32m    121\u001b[0m     \u001b[38;5;66;03m# `keras.config.disable_traceback_filtering()`\u001b[39;00m\n\u001b[1;32m--> 122\u001b[0m     \u001b[38;5;28;01mraise\u001b[39;00m e\u001b[38;5;241m.\u001b[39mwith_traceback(filtered_tb) \u001b[38;5;28;01mfrom\u001b[39;00m\u001b[38;5;250m \u001b[39m\u001b[38;5;28;01mNone\u001b[39;00m\n\u001b[0;32m    123\u001b[0m \u001b[38;5;28;01mfinally\u001b[39;00m:\n\u001b[0;32m    124\u001b[0m     \u001b[38;5;28;01mdel\u001b[39;00m filtered_tb\n",
      "\u001b[1;31mValueError\u001b[0m: Exception encountered when calling Sequential.call().\n\n\u001b[1mCannot take the length of shape with unknown rank.\u001b[0m\n\nArguments received by Sequential.call():\n  • inputs=tf.Tensor(shape=<unknown>, dtype=int32)\n  • training=False\n  • mask=None"
     ]
    }
   ],
   "source": [
    "model.predict(embedded_docs[0])"
   ]
  },
  {
   "cell_type": "code",
   "execution_count": null,
   "metadata": {},
   "outputs": [],
   "source": []
  }
 ],
 "metadata": {
  "kernelspec": {
   "display_name": "venv",
   "language": "python",
   "name": "python3"
  },
  "language_info": {
   "codemirror_mode": {
    "name": "ipython",
    "version": 3
   },
   "file_extension": ".py",
   "mimetype": "text/x-python",
   "name": "python",
   "nbconvert_exporter": "python",
   "pygments_lexer": "ipython3",
   "version": "3.10.0"
  }
 },
 "nbformat": 4,
 "nbformat_minor": 2
}
